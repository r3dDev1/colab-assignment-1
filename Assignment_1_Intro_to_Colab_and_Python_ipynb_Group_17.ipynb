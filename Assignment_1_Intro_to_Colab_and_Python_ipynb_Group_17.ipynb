{
  "nbformat": 4,
  "nbformat_minor": 0,
  "metadata": {
    "colab": {
      "name": "Assignment 1. Intro to Colab and Python.ipynb Group 17",
      "provenance": [],
      "collapsed_sections": [],
      "include_colab_link": true
    },
    "kernelspec": {
      "name": "python3",
      "display_name": "Python 3"
    }
  },
  "cells": [
    {
      "cell_type": "markdown",
      "metadata": {
        "id": "view-in-github",
        "colab_type": "text"
      },
      "source": [
        "<a href=\"https://colab.research.google.com/github/r3dDev1/colab-assignment-1/blob/main/Assignment_1_Intro_to_Colab_and_Python_ipynb_Group_17.ipynb\" target=\"_parent\"><img src=\"https://colab.research.google.com/assets/colab-badge.svg\" alt=\"Open In Colab\"/></a>"
      ]
    },
    {
      "cell_type": "markdown",
      "metadata": {
        "id": "ueIl-4TI_Nuw"
      },
      "source": [
        "# [**Engagement page**](https://docs.google.com/spreadsheets/d/1vBGkocfLmlhNqQ8SChKxyB6e0sLINj4yzXaTFcuwZsk/edit?usp=sharing)\r\n",
        "\r\n",
        "\r\n",
        "# [**Discussion page**](https://calstatela.instructure.com/courses/58579/modules/items/2814769)\r\n",
        "* Please ask questions about this assignment on this discussion page!\r\n",
        "\r\n",
        "---\r\n"
      ]
    },
    {
      "cell_type": "markdown",
      "metadata": {
        "id": "kqaASFLkAyYl"
      },
      "source": [
        "\r\n",
        "\r\n",
        "#  Amy C. Edmonson,  [**How to Turn a Group of Strangers into a Team**](https://www.ted.com/talks/amy_edmondson_how_to_turn_a_group_of_strangers_into_a_team) (video 12:59), \r\n",
        ">Novartis Professor of Leadership and Management, Harvard Business School,\r\n",
        "\r\n",
        "\r\n",
        "---\r\n",
        "\r\n"
      ]
    },
    {
      "cell_type": "markdown",
      "metadata": {
        "id": "0vFNcdZVfjr1"
      },
      "source": [
        "#  Intro to Python and colab\r\n",
        "\r\n",
        "## **We will be using Python in this course.**\r\n",
        "\r\n",
        "\r\n",
        "* Become familiar enough with the [Python Tutorial](https://docs.python.org/3/tutorial/index.html) that you are able to use it to look up information about Python when you need it. Focus especially on everything through Section 10.\r\n",
        "\r\n",
        "* Become familiar enough with the first four sections of the  [Python Standard Library](https://docs.python.org/3/library/index.html) (through the section on *Built-in types*) that you are able to use it to look up information about Python when you need it. Be sure you can easily find the page that lists the [Built-in Functions](https://docs.python.org/3/library/functions.html).\r\n",
        "\r\n",
        "* Become familiar with the Python [Index](https://docs.python.org/3/genindex.html), [Glossary](https://docs.python.org/3/glossary.html), and [Search page](https://docs.python.org/3/search.html).\r\n"
      ]
    },
    {
      "cell_type": "markdown",
      "metadata": {
        "id": "RKiHfpctTubD"
      },
      "source": [
        "##     \r\n",
        "\r\n",
        "---\r\n",
        "\r\n"
      ]
    },
    {
      "cell_type": "markdown",
      "metadata": {
        "id": "QkyYs3iJ-cwc"
      },
      "source": [
        "## Google Colab\r\n",
        "\r\n",
        "We will do all our Python work in Google Colab, an online interactive Python [interpreter](https://docs.python.org/3/tutorial/interpreter.html). It allows you to write and execute Python without downloading or installing anything. All you need is a browser.\r\n",
        "\r\n",
        "* Open and work through these introductory colab pages: [page 1](https://colab.research.google.com/drive/19QLO7-6Uu5PSRKZuSbpVzXzsdUcvyvPI?usp=sharing), [page 2](https://colab.research.google.com/notebooks/basic_features_overview.ipynb), and [page 3](https://colab.research.google.com/github/gitedio/examples/blob/master/Working%20With%20Markdown%20Cells.ipynb). Also read this fairly complete and well-organized [Markdown-HTML page](https://towardsdatascience.com/cheat-sheet-for-google-colab-63853778c093).\r\n",
        "\r\n",
        "\r\n",
        "\r\n",
        "---\r\n",
        "\r\n",
        "\r\n",
        "\r\n"
      ]
    },
    {
      "cell_type": "markdown",
      "metadata": {
        "id": "lNtNON2eTHS-"
      },
      "source": [
        "\r\n",
        "### **Q1. Describe three ways in which Python differs from Java**\r\n",
        "\r\n",
        "---\r\n",
        "**Explanation:**\r\n",
        "\r\n",
        "1.   Python has six letters in its name; Java has 4.\r\n",
        "\r\n",
        "\r\n",
        "\r\n",
        "\r\n",
        "\r\n",
        "---\r\n",
        "* **Correct and complete: (A, B, C).**\r\n",
        "* **Written in clear, grammatical, and properly spelled English: (A, B, C).**\r\n",
        "\r\n",
        "---"
      ]
    },
    {
      "cell_type": "markdown",
      "metadata": {
        "id": "9V3jQXbVUce0"
      },
      "source": [
        "---\r\n",
        "\r\n",
        "\r\n",
        "---\r\n",
        "\r\n",
        "\r\n",
        "\r\n",
        "# **`print_lv()`**, a print utility function\r\n",
        "\r\n"
      ]
    },
    {
      "cell_type": "markdown",
      "metadata": {
        "id": "ve2ONMmVtJF0"
      },
      "source": [
        "\r\n",
        "##     \r\n",
        "\r\n",
        "\r\n",
        "`print_lv()` is a function that accepts any number of expressions, as strings, and then prints the values of those experssions. Python 3.8 has this built in, but Colab, unfortunately, is only up to Python 3.6. So we have to write our own. Look at the examples. They should be self-explanatory."
      ]
    },
    {
      "cell_type": "code",
      "metadata": {
        "id": "UM6GqPVXsxwp",
        "colab": {
          "base_uri": "https://localhost:8080/"
        },
        "outputId": "a5bd9542-f70c-443c-a9a4-ac4c10b275eb"
      },
      "source": [
        "def print_lv(*strings):\n",
        "    \"\"\"\n",
        "    strings are zero or more quoted expressions that can be evaluated in the current context.\n",
        "\n",
        "    For each string in strings, this function will print the string \n",
        "    followed by ' => ' followed by the value of string. \n",
        "\n",
        "    A newline is printed after all the strings.\n",
        "\n",
        "    The name \"print_lv\" is for \"print literal and value\".\n",
        "\n",
        "    Python 3.8 includes a similar feature. Too bad Colab is still on Python 3.6.\n",
        "    \"\"\" \n",
        "\n",
        "    for string in strings:\n",
        "        print(string, '=>', eval(string)) \n",
        "    print() \n",
        "\n",
        "\n",
        "# For example \n",
        "a = 5\n",
        "b = 4\n",
        "\n",
        "print_lv('a', 'b', 'a + b', 'a * b', f'{a} * {b}', 'a ** b', 'b ** a', f'{min(a, b)} ** {max(a, b)}')\n"
      ],
      "execution_count": null,
      "outputs": [
        {
          "output_type": "stream",
          "text": [
            "a => 5\n",
            "b => 4\n",
            "a + b => 9\n",
            "a * b => 20\n",
            "5 * 4 => 20\n",
            "a ** b => 625\n",
            "b ** a => 1024\n",
            "4 ** 5 => 1024\n",
            "\n"
          ],
          "name": "stdout"
        }
      ]
    },
    {
      "cell_type": "markdown",
      "metadata": {
        "id": "wIxBolnBtFxw"
      },
      "source": [
        "\r\n",
        "---\r\n",
        "### **Q2. Explain how to use `print_lv`.** \r\n",
        "\r\n",
        "Explain the examples above, including those that use [`f-strings`](https://docs.python.org/3/tutorial/inputoutput.html#formatted-string-literals). Also construct and explain some of your own examples.\r\n",
        "\r\n",
        "---\r\n",
        "**Explanation:**\r\n",
        "   \r\n",
        "---\r\n",
        "* **Correct and complete: (A, B, C).**\r\n",
        "* **Written in clear, grammatical, and properly spelled English: (A, B, C).**\r\n",
        "\r\n",
        "---"
      ]
    },
    {
      "cell_type": "markdown",
      "metadata": {
        "id": "h5gfYR4fBp5j"
      },
      "source": [
        "---\r\n",
        "\r\n",
        "#  Two ways to compute the sum of the numbers 0 .. 9. \r\n",
        "\r\n",
        "The following code block contains two ways to compute the sum of the numbers 0 .. 9. To run this code block successfully, you must first run the code block in which `print_lv()` is defined."
      ]
    },
    {
      "cell_type": "code",
      "metadata": {
        "colab": {
          "base_uri": "https://localhost:8080/"
        },
        "id": "RsBpGsMRBkOV",
        "outputId": "383f894a-b445-4137-e3e4-7bf7243c1055"
      },
      "source": [
        "# A declarative approach for computing the sum of the numbers 0 .. 9\r\n",
        "sum_declar_0_9 = sum(range(10))\r\n",
        "\r\n",
        "# An imperative approach for computing the sum of the numbers 0 .. 9\r\n",
        "sum_impera_0_9 = 0\r\n",
        "for i in range(1, 10):\r\n",
        "    sum_impera_0_9 += i\r\n",
        "\r\n",
        "# The following is not part of either approach. It simply prints out the results.\r\n",
        "print_lv(\"sum_declar_0_9\", 'sum_impera_0_9')"
      ],
      "execution_count": null,
      "outputs": [
        {
          "output_type": "stream",
          "text": [
            "sum_declar_0_9 => 45\n",
            "sum_impera_0_9 => 45\n",
            "\n"
          ],
          "name": "stdout"
        }
      ]
    },
    {
      "cell_type": "markdown",
      "metadata": {
        "id": "EfdRDII7t6K1"
      },
      "source": [
        "\r\n",
        "These two ways illustrate the difference between declarative software and imperative software. \r\n",
        "\r\n",
        "A simple rule of thumb is that software is declarative if no variables change their value (although variables may be assigned initial values) and there is no I/O. In other words, code is declarative if all variables are [*immutable*](https://www.freecodecamp.org/news/mutable-vs-immutable-objects-python/). If one or more variables change or there is I/O, the software is imperative. (The preceding link to [*immutable*](https://www.freecodecamp.org/news/mutable-vs-immutable-objects-python/) is well-written. You should read it.)\r\n",
        "\r\n",
        "Given this rule of thumb, the first approach is declarative, and the second is imperative."
      ]
    },
    {
      "cell_type": "markdown",
      "metadata": {
        "id": "V59y1grYaGYq"
      },
      "source": [
        "##  Explaining code\r\n",
        "\r\n",
        "Much of the work you will do in this class will involve explaining code in English. Here is an example.\r\n",
        "\r\n",
        "Consider the declarative approach for computing the sum of the numbers 0 .. 9.\r\n",
        "\r\n",
        "```Python\r\n",
        "sum_declar_0_9 = sum(range(10)) \r\n",
        "```\r\n",
        "\r\n"
      ]
    },
    {
      "cell_type": "markdown",
      "metadata": {
        "id": "_iM2-hzabrjM"
      },
      "source": [
        "Code explanation generally involves three major components: \r\n",
        "\r\n",
        "\r\n",
        "*   **What** the code accomplishes.\r\n",
        "*   The **strategy** that the code implements to produce its result.\r\n",
        "*   **How** the code implements the strategy.\r\n",
        "\r\n",
        "Here's an example of what you might write to explain the declarative approach for computing the sum of the numbers 0 .. 9.\r\n"
      ]
    },
    {
      "cell_type": "markdown",
      "metadata": {
        "id": "OWbAJ_PMBZHu"
      },
      "source": [
        "**a. What it does.** Stores the sum of the numbers 0 through 9 inclusive as the value of the variable `sum_declar_0_9`. \n",
        "  * **Before:** the variable `sum_declar_0_9` doesn't exit. \n",
        "  * **After:** the variable `sum_declar_0_9` refers to an integer object whose value is the sum of the numbers from 0 through 9. \n",
        "  \n",
        "\n"
      ]
    },
    {
      "cell_type": "markdown",
      "metadata": {
        "id": "V4EsJGfUozFX"
      },
      "source": [
        "**b. Strategy.**\r\n",
        "\r\n",
        "* Use a `range` object to represent the numbers 0 .. 9.\r\n",
        "* Use the `sum()` function to find the sum of those numbers.\r\n",
        "* Take advantage of the Python feature that lets you create variables on the fly to create the variable `sum_declar_0_9`. \r\n",
        "* Use the assignment operator to store the integer object returned by `sum()` as the value of `sum_declar_0_9`."
      ]
    },
    {
      "cell_type": "markdown",
      "metadata": {
        "id": "nZxGSe6daorM"
      },
      "source": [
        "**c. How it does it:** code-level implementation.\r\n",
        "\r\n",
        "*   Use the [`range()`](https://docs.python.org/3/library/stdtypes.html#range) (and [`range()`](https://docs.python.org/3/tutorial/controlflow.html#the-range-function)) constructor to build a `range` object that represents the [`sequence`](https://docs.python.org/3/library/stdtypes.html#sequence-types-list-tuple-range) of numbers 0 .. 9 inclusive. Use `range(10)` because `range(n)` represents the numbers `0` through `n - 1`.\r\n",
        "*   Pass that `range` object as an argument to the [`sum()`](https://docs.python.org/3/library/functions.html?highlight=sum#sum) function. We can do that because the `sum()` function expects an iterable as its argument. (An object is [iterable](https://docs.python.org/3/glossary.html#term-iterable) if it is capable of returning its members one at a time.) All `range` objects are iterable. \r\n",
        "\r\n",
        "* When run, the `sum()` function will return an `int` object for the sum of the numbers 0 .. 9.\r\n",
        "*   Assign that `int` object to the variable `sum_declar_0_9`, which is created on-the-fly.\r\n",
        "\r\n",
        "(In this simple case, the code-level implementation is a fairly direct translation of the strategy. That will not always be the case.)\r\n"
      ]
    },
    {
      "cell_type": "markdown",
      "metadata": {
        "id": "-xHUo6C2gvKD"
      },
      "source": [
        "\r\n",
        "---\r\n",
        "---\r\n",
        "\r\n",
        ">  The following is *not* part of a standard explanation. *But*, if while looking for information on  which to base an explanation, you find material that you think is interesting and important enough to discuss, please do so. On the other hand, don't pad explanations with extra material just to make them longer. Often, such extra material just gets in the way.\r\n",
        " \r\n",
        " \r\n",
        "* Subject to available memory, Python integers (type `int`) are unlimited in size.\r\n",
        " \r\n",
        "* Almost everything in Python is an object, including all numbers.  \r\n",
        "\r\n",
        "* Many objects, including [all numbers](https://docs.python.org/3/reference/datamodel.html#the-standard-type-hierarchy), are *immutable*: once created they cannot change. \r\n",
        " \r\n",
        "* The line &nbsp; &nbsp; `sum_declar_0_9 = sum(range(10))` &nbsp; &nbsp; is a *declarative* approach to generating the sum of 0 .. 9. It is declarative because it says _what_ the result is. \r\n",
        "\r\n",
        " After this line is executed, the variable `sum_declar_0_9` will contain a reference to the sum of the numbers in the sequence 0 .. 9. Furthermove, the only variable is `sum_declar_0_9`, which doesn't change its value.\r\n",
        "   \r\n",
        "* Unike Java, Python variables are not typed. For example, a variable may refer to an `int` at one point and to a list at another.\r\n",
        " \r\n",
        "* On the other hand, Python objects, i.e., the values that variables point to, are strongly typed. The type of every object is known.  \r\n",
        " \r\n",
        "* [`sequence`](https://docs.python.org/3/library/stdtypes.html#sequence-types-list-tuple-range) is similar to an abstract class in Java. It cannot be instantiated.\r\n",
        "  \r\n",
        "* The [`range`](https://docs.python.org/3/library/stdtypes.html#range) class is a subtype of `sequence`. It can have instances. `range()` is its constructor. \r\n",
        "\r\n",
        "* All `range` objects are arithmetic progressions. Each has a starting value (default 0), an ending value, and a step value (default of 1).\r\n",
        "\r\n",
        "* `range` objects are immutable. A `range` object is _not_ a list of numbers. \r\n",
        "\r\n",
        "* Because `range` objects are also iterable, they are capable of producing the numbers they represent on request&mdash;in this example when requested by `sum.`\r\n",
        "\r\n",
        "* More generally, an [`itereable`](https://docs.python.org/3/glossary.html#term-iterable) is *an object capable of returning its members one at a time.* All `sequences`, included `ranges`, are `iterable`.\r\n",
        "\r\n",
        "* The [`sum()`](https://docs.python.org/3/library/functions.html?highlight=sum#sum) function finds and returns the sum of its argument, which must be an `itereable`. \r\n",
        "\r\n",
        "\r\n",
        "---\r\n",
        "\r\n",
        "---\r\n"
      ]
    },
    {
      "cell_type": "markdown",
      "metadata": {
        "id": "Qelh_OBL3elJ"
      },
      "source": [
        "\r\n",
        "For a better sense of the difference between a `range` object and a list of elements, consider the following code. \r\n",
        "\r\n",
        "Note that the [`list()`](https://docs.python.org/3/library/stdtypes.html#lists) function is actually the constructor for the `list` class. When applied to a `range` object, `list()` extracts the elements from the `range` object and puts them into a [`list`](https://docs.python.org/3/library/stdtypes.html#list). \r\n",
        "\r\n",
        "Like Java, `list` objects are simply lists of elements. Unlike Java, `list` elements need not all be of the same type. `list` objects are mutable.\r\n",
        "\r\n",
        "Both `range(10)`, and `list(range(10))` are interable. Upon request, they return their values one at a time.\r\n"
      ]
    },
    {
      "cell_type": "code",
      "metadata": {
        "colab": {
          "base_uri": "https://localhost:8080/"
        },
        "id": "4NvgtG4hDREs",
        "outputId": "a51dcdbd-87f9-4040-d418-45d4eb245c9e"
      },
      "source": [
        "r = range(10)\r\n",
        "list_r = list(r)\r\n",
        "print_lv('r', 'type(r)', 'list_r', 'type(list_r)', 'sum(r)', 'type(sum(r))', 'sum(list_r)')\r\n",
        "\r\n",
        "list_r[2] = 'surprise'\r\n",
        "print_lv('list_r')"
      ],
      "execution_count": null,
      "outputs": [
        {
          "output_type": "stream",
          "text": [
            "r => range(0, 10)\n",
            "type(r) => <class 'range'>\n",
            "list_r => [0, 1, 2, 3, 4, 5, 6, 7, 8, 9]\n",
            "type(list_r) => <class 'list'>\n",
            "sum(r) => 45\n",
            "type(sum(r)) => <class 'int'>\n",
            "sum(list_r) => 45\n",
            "\n",
            "list_r => [0, 1, 'surprise', 3, 4, 5, 6, 7, 8, 9]\n",
            "\n"
          ],
          "name": "stdout"
        }
      ]
    },
    {
      "cell_type": "markdown",
      "metadata": {
        "id": "VqHK20le2_r6"
      },
      "source": [
        "### **Q3. Identify and explain three differences between `range` objects and `list` objects.**\r\n",
        "\r\n",
        "---\r\n",
        "**Explanation:**\r\n",
        "\r\n",
        "---\r\n",
        "* **Correct and complete: (A, B, C).**\r\n",
        "* **Written in clear, grammatical, and properly spelled English: (A, B, C).**\r\n",
        "\r\n",
        "---\r\n"
      ]
    },
    {
      "cell_type": "markdown",
      "metadata": {
        "id": "9ooABtJQuNVL"
      },
      "source": [
        "---\r\n",
        "\r\n",
        "Following is an imperative way to compute the sum of the numbers 0 .. 9 inclusive.\r\n"
      ]
    },
    {
      "cell_type": "code",
      "metadata": {
        "id": "wfn_O1AYA3lp"
      },
      "source": [
        "# An imperative approach for computing the sum of the numbers 0 .. 9\n",
        "sum_impera_0_9 = 0\n",
        "for i in range(1, 10):\n",
        "    sum_impera_0_9 += i"
      ],
      "execution_count": null,
      "outputs": []
    },
    {
      "cell_type": "markdown",
      "metadata": {
        "id": "H9WlEhdEsHNT"
      },
      "source": [
        "### **Q4. Using the ___what___, ___strategy___, ___how___ approach, explain the imperative approach for computing the sum of the numbers 0 .. 9.**\r\n",
        "\r\n",
        "Note: The **`for`** statement is explained [here](https://docs.python.org/3/tutorial/controlflow.html#for-statements). \r\n",
        "\r\n",
        "Be sure to explain why `range(1, 10)` has two arguments and what they mean.\r\n",
        "\r\n",
        "---\r\n",
        "**Explanation:**\r\n",
        "\r\n",
        "---\r\n",
        "* **Correct and complete: (A, B, C).**\r\n",
        "* **Written in clear, grammatical, and properly spelled English: (A, B, C).**\r\n",
        "\r\n",
        "---\r\n"
      ]
    },
    {
      "cell_type": "code",
      "metadata": {
        "colab": {
          "base_uri": "https://localhost:8080/"
        },
        "id": "p91ZMofEFFLY",
        "outputId": "f36fe324-5027-4c15-ec9a-747518736b34"
      },
      "source": [
        "# We can print both results in a separate code block.\r\n",
        "print_lv('sum_declar_0_9', 'sum_impera_0_9')"
      ],
      "execution_count": null,
      "outputs": [
        {
          "output_type": "stream",
          "text": [
            "sum_declar_0_9 => 45\n",
            "sum_impera_0_9 => 45\n",
            "\n"
          ],
          "name": "stdout"
        }
      ]
    },
    {
      "cell_type": "markdown",
      "metadata": {
        "id": "IXMkzEDvudtp"
      },
      "source": [
        "## **A very brief history of functional programming**\r\n",
        "\r\n",
        "Richard Feldman  (2019), [Why Isn't Functional Programming the Norm?](https://youtu.be/QyJZzq0v7Z4). (video, 46:08)\r\n",
        "\r\n",
        "This is an excellent talk about Programming Language Paradigms. It explores the history of many paradigms, and it does it quite quickly. Even though there are portions you may not undertand, I want you to watch it. \r\n",
        "\r\n",
        "Those of you who are interested in programming as a subject of study&mdash;and not just as a way to get a job&mdash;should find this a very informative video. I hope many of you fit into that category.\r\n",
        "\r\n"
      ]
    },
    {
      "cell_type": "markdown",
      "metadata": {
        "id": "InRs_kW9vO_S"
      },
      "source": [
        "### **Q5. Feldman's talk has a very short definition of _functional programming._ What is the definition, and what does it mean?**\r\n",
        "\r\n",
        "\r\n",
        "---\r\n",
        "**Explanation:**\r\n",
        "\r\n",
        "---\r\n",
        "* **Correct and complete: (A, B, C).**\r\n",
        "* **Written in clear, grammatical, and properly spelled English: (A, B, C).**\r\n",
        "\r\n",
        "---\r\n"
      ]
    },
    {
      "cell_type": "markdown",
      "metadata": {
        "id": "JjoB5o7EXDXn"
      },
      "source": [
        "---\r\n",
        "\r\n",
        "---\r\n",
        "\r\n",
        "## **Questions about Colab**\r\n"
      ]
    },
    {
      "cell_type": "markdown",
      "metadata": {
        "id": "jZ62NS0i4IrV"
      },
      "source": [
        "\r\n",
        "### **Q6. You usually use [Markdown](https://colab.research.google.com/notebooks/markdown_guide.ipynb#scrollTo=p3DLWeFwd1iR) for colab text blocks. Is it possible include HTML in a colab text block? How do you know? If so, provide an example.** \r\n",
        "\r\n",
        "\r\n",
        "---\r\n",
        "**Answer:**\r\n",
        "\r\n",
        "---\r\n",
        "\r\n",
        "* **Correct and complete: (A, B, C).**\r\n",
        "* **Written in clear, grammatical, and properly spelled English: (A, B, C).**\r\n",
        "---"
      ]
    },
    {
      "cell_type": "markdown",
      "metadata": {
        "id": "Fem1LIf6v4ZR"
      },
      "source": [
        "\r\n",
        "\r\n",
        "The [Markdown](https://colab.research.google.com/notebooks/markdown_guide.ipynb#scrollTo=p3DLWeFwd1iR) page includes this \"raw\" (i.e., Markdown) line.\r\n",
        "\r\n",
        "```\r\n",
        "  ##### \\#\\#\\#\\#\\#This text is treated as an <h5> because it has five hashes at the beginning\r\n",
        "```\r\n",
        "\r\n",
        "But that Markdown produces the following (incorrect) output.\r\n",
        "\r\n",
        "> ##### \\#\\#\\#\\#\\#This text is treated as an <h5> because it has five hashes at the beginning\r\n",
        "\r\n"
      ]
    },
    {
      "cell_type": "markdown",
      "metadata": {
        "id": "T6EGvH210j_5"
      },
      "source": [
        "\r\n",
        "### **Q7. How might you fix it? How does your fix work?**\r\n",
        "\r\n",
        "---\r\n",
        "**Answer:**\r\n",
        "\r\n",
        "---\r\n",
        "\r\n",
        "* **Correct and complete: (A, B, C).**\r\n",
        "* **Written in clear, grammatical, and properly spelled English: (A, B, C).**\r\n",
        "---"
      ]
    },
    {
      "cell_type": "markdown",
      "metadata": {
        "id": "jTSjqba0xCCy"
      },
      "source": [
        "\r\n",
        "The [Markdown](https://colab.research.google.com/notebooks/markdown_guide.ipynb#scrollTo=p3DLWeFwd1iR) page includes this (raw) line.\r\n",
        "\r\n",
        "```\r\n",
        "\\~\\~~~strikethrough~~\\~\\~\r\n",
        "```\r\n",
        "\r\n",
        "### **Q8. How should that line be understood? What does it produce?**\r\n",
        "\r\n",
        "---\r\n",
        "**Answer:**\r\n",
        "\r\n",
        "---\r\n",
        "\r\n",
        "* **Correct and complete: (A, B, C).**\r\n",
        "* **Written in clear, grammatical, and properly spelled English: (A, B, C).**\r\n",
        "---"
      ]
    },
    {
      "cell_type": "markdown",
      "metadata": {
        "id": "O9kPSQLZzzNF"
      },
      "source": [
        "### **Q9. Is it possible to include color-coded Python code in a text block? If so, show an example.**\r\n",
        "\r\n",
        "---\r\n",
        "**Answer:**\r\n",
        "\r\n",
        "---\r\n",
        "\r\n",
        "* **Correct and complete: (A, B, C).**\r\n",
        "* **Written in clear, grammatical, and properly spelled English: (A, B, C).**\r\n",
        "---"
      ]
    },
    {
      "cell_type": "markdown",
      "metadata": {
        "id": "7zCtLtNkRFP5"
      },
      "source": [
        "\r\n",
        "\r\n",
        "## **IDLE and REPLs**\r\n",
        "\r\n",
        "[IDLE](https://docs.python.org/3/library/idle.html#index-0) is the built-in Python [REPL](https://en.wikipedia.org/wiki/Read%E2%80%93eval%E2%80%93print_loop). It uses `>>> ` as an interactive prompt. (You will see many examples that use that prompt.) Since we will be using Colab instead of IDLE, become comfortable representing examples developed for IDLE in Colab. "
      ]
    },
    {
      "cell_type": "markdown",
      "metadata": {
        "id": "7DF8BQxzue0C"
      },
      "source": [
        "\r\n",
        "### **Q10. Is Colab a REPL?**\r\n",
        "\r\n",
        "---\r\n",
        "**Answer:**\r\n",
        "\r\n",
        "---\r\n",
        "\r\n",
        "* **Correct and complete: (A, B, C).**\r\n",
        "* **Written in clear, grammatical, and properly spelled English: (A, B, C).**\r\n",
        "---"
      ]
    },
    {
      "cell_type": "markdown",
      "metadata": {
        "id": "13276t3hYCuu"
      },
      "source": [
        "\r\n",
        "### **Q11. Does Colab have any features that IDLE lacks? If so, what are they?**\r\n",
        "\r\n",
        "---\r\n",
        "**Answer:**\r\n",
        "\r\n",
        "---\r\n",
        "\r\n",
        "* **Correct and complete: (A, B, C).**\r\n",
        "* **Written in clear, grammatical, and properly spelled English: (A, B, C).**\r\n",
        "---"
      ]
    },
    {
      "cell_type": "markdown",
      "metadata": {
        "id": "KsxbS0OEYDAe"
      },
      "source": [
        "\r\n",
        "### **Q12. Does IDLE have any features that colab lacks? If so, what are they?**\r\n",
        "\r\n",
        "---\r\n",
        "**Answer:**\r\n",
        "\r\n",
        "---\r\n",
        "\r\n",
        "* **Correct and complete: (A, B, C).**\r\n",
        "* **Written in clear, grammatical, and properly spelled English: (A, B, C).**\r\n"
      ]
    },
    {
      "cell_type": "markdown",
      "metadata": {
        "deletable": true,
        "editable": true,
        "id": "OUZCZxgqOSUz"
      },
      "source": [
        "---\n",
        "---\n",
        "# Assignment quality overall evaluation (Group consensus)\n",
        "\n",
        "\n",
        "\n",
        "As you think about the quality of your team's work on this assignment, consider the quality of each explanation to be the ***smaller*** of its two component scores. (Do you understand why that make sense?)\n",
        "\n",
        "**Quality score for the assignment as a whole: (A, B, or C)**\n",
        "\n",
        "\n",
        "---\n",
        "---"
      ]
    },
    {
      "cell_type": "markdown",
      "metadata": {
        "deletable": true,
        "editable": true,
        "id": "tq1MFYHLCkLK"
      },
      "source": [
        "\n",
        "\n",
        "\n",
        "# Individual self-evaluations\n",
        "Please identify yourself by _Last name, First name_. (That's how Canvas lists you. Thanks.) \n",
        "\n",
        "Please order your self-evaluations alphabetically by last name.\n",
        "\n",
        "---\n",
        "---\n",
        "\n"
      ]
    },
    {
      "cell_type": "markdown",
      "metadata": {
        "deletable": true,
        "editable": true,
        "id": "ZMwq3OsbOe1x"
      },
      "source": [
        "## **a.** Self-evaluation by _< Last name, First name >_.\n",
        "\n",
        "---\n",
        "\n",
        "* I am thoroughly familiar with and can put into my own words _ _ _ _% of the requested explanations. \n",
        "\n",
        "* I would grade my teamwork level: _ _ _ (A, B, C).\n",
        "\n",
        "* I give myself a score of _ _ _ _ (A, B, C) on this assignment because  _ _ _ _. \n",
        "\n",
        "---\n",
        "---"
      ]
    },
    {
      "cell_type": "markdown",
      "metadata": {
        "deletable": true,
        "editable": true,
        "id": "EbbBc21szQZU"
      },
      "source": [
        "##  **b.** Self-evaluation by _< Last name, First name >_.\n",
        "\n",
        "---\n",
        "\n",
        "* I am thoroughly familiar with and can put into my own words _ _ _ _% of the requested explanations. \n",
        "\n",
        "* I would grade my teamwork level: _ _ _ _ (A, B, C).\n",
        "\n",
        "* I give myself a score of  _ _ _ _ (A, B, C) on this assignment because  _ _ _ _ . \n",
        "\n",
        "---\n",
        "---"
      ]
    },
    {
      "cell_type": "markdown",
      "metadata": {
        "deletable": true,
        "editable": true,
        "id": "EtMhzOD8zQnc"
      },
      "source": [
        "##  **c.** Self-evaluation by _< Last name, First name >_.\n",
        "\n",
        "---\n",
        "\n",
        "* I am thoroughly familiar with and can put into my own words  _ _ _ _% of the requested explanations. \n",
        "\n",
        "* I would grade my teamwork level: _ _ _ _ (A, B, C).\n",
        "\n",
        "* I give myself a score of  _ _ _ _ (A, B, C) on this assignment because  _ _ _ _ . \n",
        "\n",
        "\n",
        "---\n",
        "---"
      ]
    },
    {
      "cell_type": "markdown",
      "metadata": {
        "deletable": true,
        "editable": true,
        "id": "EC7j5QlpzQsc"
      },
      "source": [
        "##  **d.** Self-evaluation by _< Last name, First name >_.\n",
        "\n",
        "---\n",
        "\n",
        "* I am thoroughly familiar with and can put into my own words  _ _ _ _% of the requested explanations. \n",
        "\n",
        "* I would grade my teamwork level: _ _ _ _ (A, B, C).\n",
        "\n",
        "* I give myself a score of  _ _ _ _ (A, B, C) on this assignment because  _ _ _ _ . \n",
        "\n",
        "\n",
        "---\n",
        "---"
      ]
    }
  ]
}